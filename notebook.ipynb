{
 "cells": [
  {
   "cell_type": "markdown",
   "metadata": {},
   "source": [
    "# Lien vers la base de donnee : \n",
    "https://www.kaggle.com/datasets/kartmaan/dictionnaire-francais"
   ]
  },
  {
   "cell_type": "markdown",
   "metadata": {},
   "source": [
    "# L'importatoin des librairies"
   ]
  },
  {
   "cell_type": "code",
   "execution_count": 128,
   "metadata": {},
   "outputs": [],
   "source": [
    "import pandas as pd\n",
    "\n",
    "import mysql.connector\n",
    "\n",
    "import json"
   ]
  },
  {
   "cell_type": "markdown",
   "metadata": {},
   "source": [
    "# Une consultation du dictionnaire"
   ]
  },
  {
   "cell_type": "code",
   "execution_count": 105,
   "metadata": {},
   "outputs": [
    {
     "data": {
      "text/html": [
       "<div>\n",
       "<style scoped>\n",
       "    .dataframe tbody tr th:only-of-type {\n",
       "        vertical-align: middle;\n",
       "    }\n",
       "\n",
       "    .dataframe tbody tr th {\n",
       "        vertical-align: top;\n",
       "    }\n",
       "\n",
       "    .dataframe thead th {\n",
       "        text-align: right;\n",
       "    }\n",
       "</style>\n",
       "<table border=\"1\" class=\"dataframe\">\n",
       "  <thead>\n",
       "    <tr style=\"text-align: right;\">\n",
       "      <th></th>\n",
       "      <th>Mot</th>\n",
       "      <th>Définitions</th>\n",
       "    </tr>\n",
       "  </thead>\n",
       "  <tbody>\n",
       "    <tr>\n",
       "      <th>0</th>\n",
       "      <td>Accueil</td>\n",
       "      <td>[\"Cérémonie ou prestation réservée à un nouvel...</td>\n",
       "    </tr>\n",
       "    <tr>\n",
       "      <th>1</th>\n",
       "      <td>Dictionnaire</td>\n",
       "      <td>['Ouvrage de référence qui répertorie des mots...</td>\n",
       "    </tr>\n",
       "    <tr>\n",
       "      <th>2</th>\n",
       "      <td>Lire</td>\n",
       "      <td>['Interpréter des informations écrites sous fo...</td>\n",
       "    </tr>\n",
       "    <tr>\n",
       "      <th>3</th>\n",
       "      <td>Encyclopédie</td>\n",
       "      <td>['Ensemble, enchaînement de toutes les connais...</td>\n",
       "    </tr>\n",
       "    <tr>\n",
       "      <th>4</th>\n",
       "      <td>Manga</td>\n",
       "      <td>['Bande dessinée japonaise, souvent en noir et...</td>\n",
       "    </tr>\n",
       "    <tr>\n",
       "      <th>...</th>\n",
       "      <td>...</td>\n",
       "      <td>...</td>\n",
       "    </tr>\n",
       "    <tr>\n",
       "      <th>973666</th>\n",
       "      <td>Sévice</td>\n",
       "      <td>['mauvais traitement.']</td>\n",
       "    </tr>\n",
       "    <tr>\n",
       "      <th>973667</th>\n",
       "      <td>Faire voir</td>\n",
       "      <td>['Montrer, faire connaître.']</td>\n",
       "    </tr>\n",
       "    <tr>\n",
       "      <th>973668</th>\n",
       "      <td>Laisser voir</td>\n",
       "      <td>['Montrer, faire connaître.']</td>\n",
       "    </tr>\n",
       "    <tr>\n",
       "      <th>973669</th>\n",
       "      <td>Coronavirus</td>\n",
       "      <td>['Genre de virus à ARN de la famille des coron...</td>\n",
       "    </tr>\n",
       "    <tr>\n",
       "      <th>973670</th>\n",
       "      <td>Hangûl</td>\n",
       "      <td>[\"système d'écriture employé en coréen. Exempl...</td>\n",
       "    </tr>\n",
       "  </tbody>\n",
       "</table>\n",
       "<p>973671 rows × 2 columns</p>\n",
       "</div>"
      ],
      "text/plain": [
       "                 Mot                                        Définitions\n",
       "0            Accueil  [\"Cérémonie ou prestation réservée à un nouvel...\n",
       "1       Dictionnaire  ['Ouvrage de référence qui répertorie des mots...\n",
       "2               Lire  ['Interpréter des informations écrites sous fo...\n",
       "3       Encyclopédie  ['Ensemble, enchaînement de toutes les connais...\n",
       "4              Manga  ['Bande dessinée japonaise, souvent en noir et...\n",
       "...              ...                                                ...\n",
       "973666        Sévice                            ['mauvais traitement.']\n",
       "973667    Faire voir                      ['Montrer, faire connaître.']\n",
       "973668  Laisser voir                      ['Montrer, faire connaître.']\n",
       "973669   Coronavirus  ['Genre de virus à ARN de la famille des coron...\n",
       "973670        Hangûl  [\"système d'écriture employé en coréen. Exempl...\n",
       "\n",
       "[973671 rows x 2 columns]"
      ]
     },
     "execution_count": 105,
     "metadata": {},
     "output_type": "execute_result"
    }
   ],
   "source": [
    "df = pd.read_csv(\"dico.csv\")\n",
    "df"
   ]
  },
  {
   "cell_type": "markdown",
   "metadata": {},
   "source": [
    "# Creation de la base de donnee dictionaire"
   ]
  },
  {
   "cell_type": "code",
   "execution_count": 119,
   "metadata": {},
   "outputs": [
    {
     "name": "stdout",
     "output_type": "stream",
     "text": [
      "Base de donnee cree avec succes\n"
     ]
    }
   ],
   "source": [
    "\n",
    "db_config = {\n",
    "    'user': 'root',\n",
    "    'password': '',\n",
    "    'host': 'localhost',\n",
    "\n",
    "}\n",
    "\n",
    "try:\n",
    "    # Establishing the connection\n",
    "    conn = mysql.connector.connect(**db_config)\n",
    "    cursor = conn.cursor()\n",
    "\n",
    "    # SQL queries to create database and table\n",
    "    create_db_query = \"CREATE DATABASE IF NOT EXISTS dictionaire;\"\n",
    "\n",
    "    # Executing database and table creation queries\n",
    "    cursor.execute(create_db_query)\n",
    "    print('Base de donnee cree avec succes')\n",
    "\n",
    "except mysql.connector.Error as err:\n",
    "    print(f\"Error: {err}\")\n",
    "finally:\n",
    "    # Closing the cursor and connection\n",
    "    cursor.close()\n",
    "    conn.close()"
   ]
  },
  {
   "cell_type": "markdown",
   "metadata": {},
   "source": [
    "# Creation de la table Mots"
   ]
  },
  {
   "cell_type": "code",
   "execution_count": 120,
   "metadata": {},
   "outputs": [
    {
     "name": "stdout",
     "output_type": "stream",
     "text": [
      "Table Mots cree avec succes\n"
     ]
    }
   ],
   "source": [
    "db_config = {\n",
    "    'user': 'root',\n",
    "    'password': '',\n",
    "    'host': 'localhost',\n",
    "    'database': 'dictionaire',\n",
    "}\n",
    "\n",
    "try:\n",
    "    # Establishing the connection\n",
    "    conn = mysql.connector.connect(**db_config)\n",
    "    cursor = conn.cursor()\n",
    "\n",
    "    create_table_query = \"\"\"\n",
    "    CREATE TABLE IF NOT EXISTS Mots (\n",
    "        mot VARCHAR(255) NOT NULL,\n",
    "        definition TEXT NOT NULL\n",
    "    );\n",
    "    \"\"\"\n",
    "    cursor.execute(create_table_query)\n",
    "    print('Table Mots cree avec succes')\n",
    "except mysql.connector.Error as err:\n",
    "    print(f\"Error: {err}\")\n",
    "finally:\n",
    "    # Closing the cursor and connection\n",
    "    cursor.close()\n",
    "    conn.close()\n"
   ]
  },
  {
   "cell_type": "markdown",
   "metadata": {},
   "source": [
    "# Importer notre csv a la table Mots"
   ]
  },
  {
   "cell_type": "code",
   "execution_count": 121,
   "metadata": {},
   "outputs": [
    {
     "name": "stdout",
     "output_type": "stream",
     "text": [
      "La table a été chargée avec succès\n"
     ]
    }
   ],
   "source": [
    "\n",
    "try:\n",
    "    # Establishing the connection\n",
    "    conn = mysql.connector.connect(**db_config)\n",
    "    cursor = conn.cursor()\n",
    "\n",
    "    for i in range(len(df)):\n",
    "        mot = str(df.loc[i, 'Mot'])\n",
    "        mot = mot.capitalize()\n",
    "        definitions = df.loc[i, 'Définitions']\n",
    "        \n",
    "        # Ensure the mot and definitions are not NaN\n",
    "        if pd.isna(mot) or pd.isna(definitions):\n",
    "            print(f\"Skipping row {i} due to NaN values.\")\n",
    "            continue\n",
    "        \n",
    "        # Convert the definitions list to a JSON string\n",
    "        definitions_json = json.dumps(definitions)\n",
    "        \n",
    "        query = \"INSERT INTO Mots (mot, definition) VALUES (%s, %s);\"\n",
    "        cursor.execute(query, (mot, definitions_json))\n",
    "\n",
    "    # Committing the transaction\n",
    "    conn.commit()\n",
    "    \n",
    "    print('La table a été chargée avec succès')\n",
    "except mysql.connector.Error as err:\n",
    "    print(f\"Error: {err}\")\n",
    "finally:\n",
    "    # Closing the cursor and connection\n",
    "    if cursor:\n",
    "        cursor.close()\n",
    "    if conn:\n",
    "        conn.close()"
   ]
  },
  {
   "cell_type": "markdown",
   "metadata": {},
   "source": [
    "# Example d'usage"
   ]
  },
  {
   "cell_type": "code",
   "execution_count": 134,
   "metadata": {},
   "outputs": [
    {
     "name": "stdout",
     "output_type": "stream",
     "text": [
      "Conservation ou rétablissement dans un état heureux, dans un état convenable.\n",
      "Cessation de danger, recouvrement de la sécurité.\n",
      "Fait d'échapper à la damnation, de parvenir à la félicité éternelle.\n",
      "Salut du Saint Sacrement, qui est une cérémonie qui comporte essentiellement la bénédiction du saint sacrement.\n",
      "Action de saluer.\n",
      "Bonjour.\n",
      "Au revoir.\n",
      "Formule exclamative de souhait, de civilité, employée aussi dans le préambule des lois et ordonnances, dans les lettres patentes des rois, dans les bulles des papes, dans les mandements des archevêques et évêques, etc.\n"
     ]
    }
   ],
   "source": [
    "db_config = {\n",
    "    'user': 'root',\n",
    "    'password': '',\n",
    "    'host': 'localhost',\n",
    "    'database': 'dictionaire',\n",
    "}\n",
    "\n",
    "def get_definition(mot):\n",
    "    try:\n",
    "        mot = mot.capitalize()\n",
    "        # Establishing the connection\n",
    "        conn = mysql.connector.connect(**db_config)\n",
    "        cursor = conn.cursor()\n",
    "\n",
    "        query = \"SELECT definition FROM Mots WHERE mot = %s;\"\n",
    "        cursor.execute(query, (mot,))\n",
    "\n",
    "        result = cursor.fetchone()\n",
    "        \n",
    "        if result:\n",
    "            definitions_json = result[0]\n",
    "            definitions = json.loads(definitions_json)  # Convert JSON string back to list\n",
    "            definitions = eval(definitions)\n",
    "            return definitions\n",
    "        else:\n",
    "            return f\"Le mot '{word}' n'a pas été trouvé dans la base de données.\"\n",
    "\n",
    "    except mysql.connector.Error as err:\n",
    "        return f\"Error: {err}\"\n",
    "    finally:\n",
    "        # Closing the cursor and connection\n",
    "        if cursor:\n",
    "            cursor.close()\n",
    "        if conn:\n",
    "            conn.close()\n",
    "\n",
    "# Example usage\n",
    "word = \"salut\"\n",
    "definitions = get_definition(word)\n",
    "\n",
    "for definition in definitions :\n",
    "    print(definition)\n"
   ]
  },
  {
   "cell_type": "code",
   "execution_count": null,
   "metadata": {},
   "outputs": [],
   "source": []
  }
 ],
 "metadata": {
  "kernelspec": {
   "display_name": "Python 3",
   "language": "python",
   "name": "python3"
  },
  "language_info": {
   "codemirror_mode": {
    "name": "ipython",
    "version": 3
   },
   "file_extension": ".py",
   "mimetype": "text/x-python",
   "name": "python",
   "nbconvert_exporter": "python",
   "pygments_lexer": "ipython3",
   "version": "3.11.4"
  },
  "orig_nbformat": 4
 },
 "nbformat": 4,
 "nbformat_minor": 2
}
